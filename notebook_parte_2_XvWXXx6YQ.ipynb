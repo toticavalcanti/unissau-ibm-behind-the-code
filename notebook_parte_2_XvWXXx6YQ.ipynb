{
  "nbformat": 4,
  "nbformat_minor": 0,
  "metadata": {
    "kernelspec": {
      "name": "python3",
      "display_name": "Python 3.6",
      "language": "python"
    },
    "language_info": {
      "name": "python",
      "version": "3.6.9",
      "mimetype": "text/x-python",
      "codemirror_mode": {
        "name": "ipython",
        "version": 3
      },
      "pygments_lexer": "ipython3",
      "nbconvert_exporter": "python",
      "file_extension": ".py"
    },
    "colab": {
      "name": "notebook_parte-2_XvWXXx6YQ.ipynb",
      "provenance": [],
      "collapsed_sections": [
        "jMZMvmEia_hu",
        "m6hw7neMa_iM",
        "S9FcNkdfa_ih",
        "S3UJhqqGa_io",
        "-KonirU5a_iu",
        "9SefFiPEa_i2",
        "2MhJtlzla_i-",
        "LjpTWBzIa_jD"
      ]
    }
  },
  "cells": [
    {
      "cell_type": "markdown",
      "metadata": {
        "collapsed": true,
        "id": "YY2wue7la_hA",
        "colab_type": "text"
      },
      "source": [
        "# MARATONA BEHIND THE CODE 2020\n",
        "\n",
        "## DESAFIO 2: PARTE 2"
      ]
    },
    {
      "cell_type": "markdown",
      "metadata": {
        "id": "KP1n7DpOa_hC",
        "colab_type": "text"
      },
      "source": [
        "### Introdução"
      ]
    },
    {
      "cell_type": "markdown",
      "metadata": {
        "id": "DpuJQ1x9a_hD",
        "colab_type": "text"
      },
      "source": [
        "Na parte 1 deste desafio, você realizou o pré-processamento e o treinamento de um modelo a partir de um conjunto de dados base fornecido. Nesta segunda etapa você irá integrar todas as transformações e eventos de treinamento criados anteriormente em uma Pipeline completa para *deploy* no **Watson Machine Learning**!"
      ]
    },
    {
      "cell_type": "markdown",
      "metadata": {
        "id": "ScSkiZX_a_hE",
        "colab_type": "text"
      },
      "source": [
        "### Preparação do Notebook"
      ]
    },
    {
      "cell_type": "code",
      "metadata": {
        "id": "isUYq5j-bKJj",
        "colab_type": "code",
        "colab": {
          "base_uri": "https://localhost:8080/",
          "height": 128
        },
        "outputId": "bf7fd8e1-7d8c-4da8-da5e-d091ba814978"
      },
      "source": [
        "from google.colab import drive \n",
        "drive.mount('/content/gdrive')"
      ],
      "execution_count": 1,
      "outputs": [
        {
          "output_type": "stream",
          "text": [
            "Go to this URL in a browser: https://accounts.google.com/o/oauth2/auth?client_id=947318989803-6bn6qk8qdgf4n4g3pfee6491hc0brc4i.apps.googleusercontent.com&redirect_uri=urn%3aietf%3awg%3aoauth%3a2.0%3aoob&scope=email%20https%3a%2f%2fwww.googleapis.com%2fauth%2fdocs.test%20https%3a%2f%2fwww.googleapis.com%2fauth%2fdrive%20https%3a%2f%2fwww.googleapis.com%2fauth%2fdrive.photos.readonly%20https%3a%2f%2fwww.googleapis.com%2fauth%2fpeopleapi.readonly&response_type=code\n",
            "\n",
            "Enter your authorization code:\n",
            "··········\n",
            "Mounted at /content/gdrive\n"
          ],
          "name": "stdout"
        }
      ]
    },
    {
      "cell_type": "markdown",
      "metadata": {
        "id": "mTvsuzdaa_hF",
        "colab_type": "text"
      },
      "source": [
        "Primeiro realizaremos a instalação do scikit-learn e a importação das mesmas bibliotecas utilizadas anteriormente"
      ]
    },
    {
      "cell_type": "code",
      "metadata": {
        "id": "6iLbtw85a_hG",
        "colab_type": "code",
        "colab": {
          "base_uri": "https://localhost:8080/",
          "height": 92
        },
        "outputId": "dfd6e31b-a0b0-48ae-8256-70b2a1844ef8"
      },
      "source": [
        "!pip install scikit-learn==0.20.0 --upgrade"
      ],
      "execution_count": 16,
      "outputs": [
        {
          "output_type": "stream",
          "text": [
            "Requirement already up-to-date: scikit-learn==0.20.0 in /usr/local/lib/python3.6/dist-packages (0.20.0)\n",
            "Requirement already satisfied, skipping upgrade: numpy>=1.8.2 in /usr/local/lib/python3.6/dist-packages (from scikit-learn==0.20.0) (1.18.5)\n",
            "Requirement already satisfied, skipping upgrade: scipy>=0.13.3 in /usr/local/lib/python3.6/dist-packages (from scikit-learn==0.20.0) (1.4.1)\n"
          ],
          "name": "stdout"
        }
      ]
    },
    {
      "cell_type": "code",
      "metadata": {
        "id": "JMh1YS5xa_hL",
        "colab_type": "code",
        "colab": {}
      },
      "source": [
        "import json\n",
        "import requests\n",
        "import pandas as pd\n",
        "import numpy as np\n",
        "import xgboost as xgb\n",
        "from sklearn.impute import SimpleImputer\n",
        "from sklearn.model_selection import train_test_split\n",
        "from sklearn.ensemble import RandomForestClassifier\n",
        "from sklearn.pipeline import Pipeline\n",
        "from sklearn.model_selection import KFold, cross_validate"
      ],
      "execution_count": 28,
      "outputs": []
    },
    {
      "cell_type": "markdown",
      "metadata": {
        "id": "CQuEaeNIa_hP",
        "colab_type": "text"
      },
      "source": [
        "É necessário inserir o conjunto de dados base novamente como um dataframe pandas, seguindo as instruções\n",
        "\n",
        "![alt text](https://i.imgur.com/K1DwL9I.png \"importing-csv-as-df\")\n",
        "\n",
        "Após a seleção da opção **\"Insert to code\"**, a célula abaixo será preenchida com o código necessário para importação e leitura dos dados no arquivo .csv como um DataFrame Pandas."
      ]
    },
    {
      "cell_type": "code",
      "metadata": {
        "id": "AY9EXAOBa_hQ",
        "colab_type": "code",
        "colab": {}
      },
      "source": [
        "df_data_1 = pd.read_csv('/content/gdrive/My Drive/Colab Notebooks/IBM behind the code/dataset_desafio_2.csv')\n"
      ],
      "execution_count": 18,
      "outputs": []
    },
    {
      "cell_type": "markdown",
      "metadata": {
        "id": "dWYreJEZa_hV",
        "colab_type": "text"
      },
      "source": [
        "### Construção da Pipeline completa para encapsulamento no WML"
      ]
    },
    {
      "cell_type": "markdown",
      "metadata": {
        "id": "RRA-wCVRa_hW",
        "colab_type": "text"
      },
      "source": [
        "#### Preparando transformações personalizadas para carregamento no WML"
      ]
    },
    {
      "cell_type": "markdown",
      "metadata": {
        "id": "beNmdWGda_hW",
        "colab_type": "text"
      },
      "source": [
        "Na etapa anterior, foi mostrado como criar uma transformação personalizada, através da declaração de uma classe Python com os métodos ``fit`` e ``transform``.\n",
        "\n",
        "    - Código da transformação personalizada DropColumns():\n",
        "    \n",
        "    from sklearn.base import BaseEstimator, TransformerMixin\n",
        "    # All sklearn Transforms must have the `transform` and `fit` methods\n",
        "    class DropColumns(BaseEstimator, TransformerMixin):\n",
        "        def __init__(self, columns):\n",
        "            self.columns = columns\n",
        "        def fit(self, X, y=None):\n",
        "            return self\n",
        "        def transform(self, X):\n",
        "            # Primeiro realizamos a cópia do dataframe 'X' de entrada\n",
        "            data = X.copy()\n",
        "            # Retornamos um novo dataframe sem as colunas indesejadas\n",
        "            return data.drop(labels=self.columns, axis='columns')\n",
        "\n",
        "Para integrar esses tipos de transformações personalizadas nas Pipelines do Watson Machine Learning, é necessário primeiramente empacotar seu código personalizado como uma biblioteca Python. Isso pode ser feito facilmente com o uso da ferramenta *setuptools*.\n",
        "\n",
        "No seguinte repositório git: https://github.com/vnderlev/sklearn_transforms temos todos os arquivos necessários para a criação de um pacote Python, nomeado **my_custom_sklearn_transforms**.\n",
        "Esse pacote possui a seguinte estrutura de arquivos:\n",
        "\n",
        "    /my_custom_sklearn_transforms.egg-info\n",
        "        dependency_links.txt\n",
        "        not-zip-safe\n",
        "        PKG-INFO\n",
        "        SOURCES.txt\n",
        "        top_level.txt\n",
        "    /my_custom_sklearn_transforms\n",
        "        __init__.py\n",
        "        sklearn_transformers.py\n",
        "    PKG-INFO\n",
        "    README.md\n",
        "    setup.cfg\n",
        "    setup.py\n",
        "    \n",
        "O arquivo principal, que irá conter o código das nossas transformadas personalizadas, é o arquivo **/my_custom_sklearn_transforms/sklearn_transformers.py**. Se você acessá-lo no repositório, irá notar que ele contém exatamente o mesmo código declarado na primeira etapa (a classe DropColumns).\n",
        "\n",
        "Caso você tenha declarado transformações próprias (além da DropColumn fornecida), você deverá adicionar todas as classes dessas transformadas criadas por você nesse mesmo arquivo. Para tal, você deve realizar o fork desse repositório (isso pode ser feito na própria interface Web do Github, clicando no botão conforme a imagem abaixo), e adicionar suas classes personalizadas no arquivo **sklearn_transformers.py**.\n",
        "\n",
        "![alt text](https://i.imgur.com/D81E1uM.png \"forking-a-repo\")\n",
        "\n",
        "Se você somente fez o uso da transformação fornecida (DropColumns), pode ignorar essa etapa de fork, e seguir utilizando o pacote base fornecido! :)\n",
        "\n",
        "Após a preparação do seu pacote Python com as suas transformadas personalizadas, substitua o link do repositório git na célula abaixo e execute-a. Caso você não tenha preparado nenhuma nova transformada, execute a célula com o link do repositório já fornecido. \n",
        "\n",
        "<hr>\n",
        "    \n",
        "**OBSERVAÇÃO**\n",
        "\n",
        "Caso a execução da célula abaixo retorne um erro de que o repositório já existe, execute:\n",
        "\n",
        "**!rm -r -f sklearn_transforms**"
      ]
    },
    {
      "cell_type": "code",
      "metadata": {
        "id": "6kM01XL0N8Qf",
        "colab_type": "code",
        "colab": {}
      },
      "source": [
        "!rm -r -f sklearn_transforms"
      ],
      "execution_count": 17,
      "outputs": []
    },
    {
      "cell_type": "code",
      "metadata": {
        "id": "VwKFD_S4a_hX",
        "colab_type": "code",
        "colab": {
          "base_uri": "https://localhost:8080/",
          "height": 126
        },
        "outputId": "8491f470-abcd-4d6f-f8e8-5ef152ec436c"
      },
      "source": [
        "# substitua o link abaixo pelo link do seu repositório git (se for o caso)\n",
        "!git clone https://github.com/vnderlev/sklearn_transforms.git"
      ],
      "execution_count": 18,
      "outputs": [
        {
          "output_type": "stream",
          "text": [
            "Cloning into 'sklearn_transforms'...\n",
            "remote: Enumerating objects: 59, done.\u001b[K\n",
            "remote: Counting objects:   1% (1/59)\u001b[K\rremote: Counting objects:   3% (2/59)\u001b[K\rremote: Counting objects:   5% (3/59)\u001b[K\rremote: Counting objects:   6% (4/59)\u001b[K\rremote: Counting objects:   8% (5/59)\u001b[K\rremote: Counting objects:  10% (6/59)\u001b[K\rremote: Counting objects:  11% (7/59)\u001b[K\rremote: Counting objects:  13% (8/59)\u001b[K\rremote: Counting objects:  15% (9/59)\u001b[K\rremote: Counting objects:  16% (10/59)\u001b[K\rremote: Counting objects:  18% (11/59)\u001b[K\rremote: Counting objects:  20% (12/59)\u001b[K\rremote: Counting objects:  22% (13/59)\u001b[K\rremote: Counting objects:  23% (14/59)\u001b[K\rremote: Counting objects:  25% (15/59)\u001b[K\rremote: Counting objects:  27% (16/59)\u001b[K\rremote: Counting objects:  28% (17/59)\u001b[K\rremote: Counting objects:  30% (18/59)\u001b[K\rremote: Counting objects:  32% (19/59)\u001b[K\rremote: Counting objects:  33% (20/59)\u001b[K\rremote: Counting objects:  35% (21/59)\u001b[K\rremote: Counting objects:  37% (22/59)\u001b[K\rremote: Counting objects:  38% (23/59)\u001b[K\rremote: Counting objects:  40% (24/59)\u001b[K\rremote: Counting objects:  42% (25/59)\u001b[K\rremote: Counting objects:  44% (26/59)\u001b[K\rremote: Counting objects:  45% (27/59)\u001b[K\rremote: Counting objects:  47% (28/59)\u001b[K\rremote: Counting objects:  49% (29/59)\u001b[K\rremote: Counting objects:  50% (30/59)\u001b[K\rremote: Counting objects:  52% (31/59)\u001b[K\rremote: Counting objects:  54% (32/59)\u001b[K\rremote: Counting objects:  55% (33/59)\u001b[K\rremote: Counting objects:  57% (34/59)\u001b[K\rremote: Counting objects:  59% (35/59)\u001b[K\rremote: Counting objects:  61% (36/59)\u001b[K\rremote: Counting objects:  62% (37/59)\u001b[K\rremote: Counting objects:  64% (38/59)\u001b[K\rremote: Counting objects:  66% (39/59)\u001b[K\rremote: Counting objects:  67% (40/59)\u001b[K\rremote: Counting objects:  69% (41/59)\u001b[K\rremote: Counting objects:  71% (42/59)\u001b[K\rremote: Counting objects:  72% (43/59)\u001b[K\rremote: Counting objects:  74% (44/59)\u001b[K\rremote: Counting objects:  76% (45/59)\u001b[K\rremote: Counting objects:  77% (46/59)\u001b[K\rremote: Counting objects:  79% (47/59)\u001b[K\rremote: Counting objects:  81% (48/59)\u001b[K\rremote: Counting objects:  83% (49/59)\u001b[K\rremote: Counting objects:  84% (50/59)\u001b[K\rremote: Counting objects:  86% (51/59)\u001b[K\rremote: Counting objects:  88% (52/59)\u001b[K\rremote: Counting objects:  89% (53/59)\u001b[K\rremote: Counting objects:  91% (54/59)\u001b[K\rremote: Counting objects:  93% (55/59)\u001b[K\rremote: Counting objects:  94% (56/59)\u001b[K\rremote: Counting objects:  96% (57/59)\u001b[K\rremote: Counting objects:  98% (58/59)\u001b[K\rremote: Counting objects: 100% (59/59)\u001b[K\rremote: Counting objects: 100% (59/59), done.\u001b[K\n",
            "remote: Compressing objects:   2% (1/47)\u001b[K\rremote: Compressing objects:   4% (2/47)\u001b[K\rremote: Compressing objects:   6% (3/47)\u001b[K\rremote: Compressing objects:   8% (4/47)\u001b[K\rremote: Compressing objects:  10% (5/47)\u001b[K\rremote: Compressing objects:  12% (6/47)\u001b[K\rremote: Compressing objects:  14% (7/47)\u001b[K\rremote: Compressing objects:  17% (8/47)\u001b[K\rremote: Compressing objects:  19% (9/47)\u001b[K\rremote: Compressing objects:  21% (10/47)\u001b[K\rremote: Compressing objects:  23% (11/47)\u001b[K\rremote: Compressing objects:  25% (12/47)\u001b[K\rremote: Compressing objects:  27% (13/47)\u001b[K\rremote: Compressing objects:  29% (14/47)\u001b[K\rremote: Compressing objects:  31% (15/47)\u001b[K\rremote: Compressing objects:  34% (16/47)\u001b[K\rremote: Compressing objects:  36% (17/47)\u001b[K\rremote: Compressing objects:  38% (18/47)\u001b[K\rremote: Compressing objects:  40% (19/47)\u001b[K\rremote: Compressing objects:  42% (20/47)\u001b[K\rremote: Compressing objects:  44% (21/47)\u001b[K\rremote: Compressing objects:  46% (22/47)\u001b[K\rremote: Compressing objects:  48% (23/47)\u001b[K\rremote: Compressing objects:  51% (24/47)\u001b[K\rremote: Compressing objects:  53% (25/47)\u001b[K\rremote: Compressing objects:  55% (26/47)\u001b[K\rremote: Compressing objects:  57% (27/47)\u001b[K\rremote: Compressing objects:  59% (28/47)\u001b[K\rremote: Compressing objects:  61% (29/47)\u001b[K\rremote: Compressing objects:  63% (30/47)\u001b[K\rremote: Compressing objects:  65% (31/47)\u001b[K\rremote: Compressing objects:  68% (32/47)\u001b[K\rremote: Compressing objects:  70% (33/47)\u001b[K\rremote: Compressing objects:  72% (34/47)\u001b[K\rremote: Compressing objects:  74% (35/47)\u001b[K\rremote: Compressing objects:  76% (36/47)\u001b[K\rremote: Compressing objects:  78% (37/47)\u001b[K\rremote: Compressing objects:  80% (38/47)\u001b[K\rremote: Compressing objects:  82% (39/47)\u001b[K\rremote: Compressing objects:  85% (40/47)\u001b[K\rremote: Compressing objects:  87% (41/47)\u001b[K\rremote: Compressing objects:  89% (42/47)\u001b[K\rremote: Compressing objects:  91% (43/47)\u001b[K\rremote: Compressing objects:  93% (44/47)\u001b[K\rremote: Compressing objects:  95% (45/47)\u001b[K\rremote: Compressing objects:  97% (46/47)\u001b[K\rremote: Compressing objects: 100% (47/47)\u001b[K\rremote: Compressing objects: 100% (47/47), done.\u001b[K\n",
            "remote: Total 59 (delta 27), reused 15 (delta 6), pack-reused 0\u001b[K\n",
            "Unpacking objects:   1% (1/59)   \rUnpacking objects:   3% (2/59)   \rUnpacking objects:   5% (3/59)   \rUnpacking objects:   6% (4/59)   \rUnpacking objects:   8% (5/59)   \rUnpacking objects:  10% (6/59)   \rUnpacking objects:  11% (7/59)   \rUnpacking objects:  13% (8/59)   \rUnpacking objects:  15% (9/59)   \rUnpacking objects:  16% (10/59)   \rUnpacking objects:  18% (11/59)   \rUnpacking objects:  20% (12/59)   \rUnpacking objects:  22% (13/59)   \rUnpacking objects:  23% (14/59)   \rUnpacking objects:  25% (15/59)   \rUnpacking objects:  27% (16/59)   \rUnpacking objects:  28% (17/59)   \rUnpacking objects:  30% (18/59)   \rUnpacking objects:  32% (19/59)   \rUnpacking objects:  33% (20/59)   \rUnpacking objects:  35% (21/59)   \rUnpacking objects:  37% (22/59)   \rUnpacking objects:  38% (23/59)   \rUnpacking objects:  40% (24/59)   \rUnpacking objects:  42% (25/59)   \rUnpacking objects:  44% (26/59)   \rUnpacking objects:  45% (27/59)   \rUnpacking objects:  47% (28/59)   \rUnpacking objects:  49% (29/59)   \rUnpacking objects:  50% (30/59)   \rUnpacking objects:  52% (31/59)   \rUnpacking objects:  54% (32/59)   \rUnpacking objects:  55% (33/59)   \rUnpacking objects:  57% (34/59)   \rUnpacking objects:  59% (35/59)   \rUnpacking objects:  61% (36/59)   \rUnpacking objects:  62% (37/59)   \rUnpacking objects:  64% (38/59)   \rUnpacking objects:  66% (39/59)   \rUnpacking objects:  67% (40/59)   \rUnpacking objects:  69% (41/59)   \rUnpacking objects:  71% (42/59)   \rUnpacking objects:  72% (43/59)   \rUnpacking objects:  74% (44/59)   \rUnpacking objects:  76% (45/59)   \rUnpacking objects:  77% (46/59)   \rUnpacking objects:  79% (47/59)   \rUnpacking objects:  81% (48/59)   \rUnpacking objects:  83% (49/59)   \rUnpacking objects:  84% (50/59)   \rUnpacking objects:  86% (51/59)   \rUnpacking objects:  88% (52/59)   \rUnpacking objects:  89% (53/59)   \rUnpacking objects:  91% (54/59)   \rUnpacking objects:  93% (55/59)   \rUnpacking objects:  94% (56/59)   \rUnpacking objects:  96% (57/59)   \rUnpacking objects:  98% (58/59)   \rUnpacking objects: 100% (59/59)   \rUnpacking objects: 100% (59/59), done.\n"
          ],
          "name": "stdout"
        }
      ]
    },
    {
      "cell_type": "code",
      "metadata": {
        "id": "RnJHfD8_a_hb",
        "colab_type": "code",
        "colab": {
          "base_uri": "https://localhost:8080/",
          "height": 108
        },
        "outputId": "01831fec-2e3f-41bf-f5c2-3e412e061255"
      },
      "source": [
        "!cd sklearn_transforms\n",
        "!ls -ltr"
      ],
      "execution_count": 19,
      "outputs": [
        {
          "output_type": "stream",
          "text": [
            "total 76\n",
            "drwxr-xr-x 1 root root  4096 Jul 30 16:30 sample_data\n",
            "drwx------ 4 root root  4096 Aug 17 02:18 gdrive\n",
            "-rw-r--r-- 1 root root 64589 Aug 17 02:19 sklearn_transforms.zip\n",
            "drwxr-xr-x 5 root root  4096 Aug 17 02:20 sklearn_transforms\n"
          ],
          "name": "stdout"
        }
      ]
    },
    {
      "cell_type": "markdown",
      "metadata": {
        "id": "RJ4wR9fsa_hg",
        "colab_type": "text"
      },
      "source": [
        "Para subir o código no WML, precisamos enviar um arquivo .zip com todo o código fonte, então iremos zipar o diretório clonado em seguida:"
      ]
    },
    {
      "cell_type": "code",
      "metadata": {
        "scrolled": false,
        "id": "MbOh53_Qa_hh",
        "colab_type": "code",
        "colab": {}
      },
      "source": [
        "!zip -r sklearn_transforms.zip sklearn_transforms"
      ],
      "execution_count": null,
      "outputs": []
    },
    {
      "cell_type": "markdown",
      "metadata": {
        "id": "6nyanMtTa_hl",
        "colab_type": "text"
      },
      "source": [
        "Com o arquivo zip do nosso pacote carregado no Kernel deste notebook, podemos utilizar a ferramenta pip para instalá-lo, conforme a célula abaixo:"
      ]
    },
    {
      "cell_type": "code",
      "metadata": {
        "id": "vFBtTZn4a_hm",
        "colab_type": "code",
        "colab": {
          "base_uri": "https://localhost:8080/",
          "height": 326
        },
        "outputId": "5f7e536f-c64b-4c43-fefa-df2961723067"
      },
      "source": [
        "!pip install sklearn_transforms.zip"
      ],
      "execution_count": 21,
      "outputs": [
        {
          "output_type": "stream",
          "text": [
            "Processing ./sklearn_transforms.zip\n",
            "Building wheels for collected packages: my-custom-sklearn-transforms\n",
            "  Building wheel for my-custom-sklearn-transforms (setup.py) ... \u001b[?25l\u001b[?25hdone\n",
            "  Created wheel for my-custom-sklearn-transforms: filename=my_custom_sklearn_transforms-1.0-cp36-none-any.whl size=2052 sha256=ce64ef41f2b6939b9711c6382fe87b31e27677672b7f5205b9804b7f82f6c625\n",
            "  Stored in directory: /tmp/pip-ephem-wheel-cache-5p3bv55k/wheels/c4/57/de/7704133573948922952f7658fc7094c1d36d9b79a4224af702\n",
            "Successfully built my-custom-sklearn-transforms\n",
            "Installing collected packages: my-custom-sklearn-transforms\n",
            "  Found existing installation: my-custom-sklearn-transforms 1.0\n",
            "    Uninstalling my-custom-sklearn-transforms-1.0:\n",
            "      Successfully uninstalled my-custom-sklearn-transforms-1.0\n",
            "Successfully installed my-custom-sklearn-transforms-1.0\n"
          ],
          "name": "stdout"
        },
        {
          "output_type": "display_data",
          "data": {
            "application/vnd.colab-display-data+json": {
              "pip_warning": {
                "packages": [
                  "my_custom_sklearn_transforms"
                ]
              }
            }
          },
          "metadata": {
            "tags": []
          }
        }
      ]
    },
    {
      "cell_type": "markdown",
      "metadata": {
        "id": "CHO9wdUUa_hq",
        "colab_type": "text"
      },
      "source": [
        "Podemos agora realizar a importação do nosso pacote personalizado em nosso notebook!\n",
        "\n",
        "Iremos importar a transformação DropColumns. \n",
        "\n",
        "Se você possui outras transformações personalizadas, não se esqueça de importá-las!"
      ]
    },
    {
      "cell_type": "code",
      "metadata": {
        "id": "BXe-q-T1a_hr",
        "colab_type": "code",
        "colab": {}
      },
      "source": [
        "from my_custom_sklearn_transforms.sklearn_transformers import DropColumns"
      ],
      "execution_count": 20,
      "outputs": []
    },
    {
      "cell_type": "markdown",
      "metadata": {
        "id": "jMZMvmEia_hu",
        "colab_type": "text"
      },
      "source": [
        "#### Declarando a Pipeline\n",
        "\n",
        "Após a importação das transformações personalizadas como um pacote Python, podemos partir para a declaração da nossa Pipeline.\n",
        "\n",
        "O processo é bem semelhante ao realizado na primeira etapa, porém com algumas diferenças importantes, então preste bem atenção!\n",
        "\n",
        "A Pipeline exemplo possui três estágios: \n",
        "\n",
        "    - remover a coluna \"NOME\"\n",
        "    - imputar \"zeros\" em todos os valores faltantes\n",
        "    - inserir os dados pré-processados como entrada em um modelo treinado\n",
        "    \n",
        "Relembrando, a entrada desta Pipeline será o conjunto cru de dados fornecido exceto a coluna \"LABELS\" (variável-alvo a ser determinada pelo modelo).\n",
        "\n",
        "Teremos então 17 valores de entrada **na PIPELINE** (no modelo serão 16 entradas, pois a coluna NAME será removida no primeiro estágio após a transformação DropColumn).\n",
        "\n",
        "    MATRICULA       - número de quatro algarismos único para cada estudante\n",
        "    NOME            - nome completo do estudante\n",
        "    FALTAS_DE       - número de faltas na disciplina de ``Direito Empresarial``\n",
        "    FALTAS_EM       - número de faltas na disciplina de ``Empreendedorismo``\n",
        "    FALTAS_MF       - número de faltas na disciplina de ``Matemática Financeira``\n",
        "    MEDIA_DE        - média simples das notas do aluno na disciplina de ``Direito Empresarial`` (0-10)\n",
        "    MEDIA_EM        - média simples das notas do aluno na disciplina de ``Empreendedorismo`` (0-10)\n",
        "    MEDIA_MF        - média simples das notas do aluno na disciplina de ``Matemática Financeira`` (0-10)\n",
        "    HRS_ESTUDO_DE   - horas de estudo particular na disciplina de ``Direito Empresarial``\n",
        "    HRS_ESTUDO_EM   - horas de estudo particular na disciplina de ``Empreendedorismo``\n",
        "    HRS_ESTUDO_MF   - horas de estudo particular na disciplina de ``Matemática Financeira``\n",
        "    REPROVACOES_DE  - número de reprovações na disciplina de ``Direito Empresarial``\n",
        "    REPROVACOES_EM  - número de reprovações na disciplina de ``Empreendedorismo``\n",
        "    REPROVACOES_MF  - número de reprovações na disciplina de ``Matemática Financeira``\n",
        "    LIVROS_TEXTO    - quantidade de livros e textos acessados pelo aluno no sistema da universidade\n",
        "    AULAS_AO_VIVO   - horas de aulas ao vivo presenciadas pelo aluno (total em todas as disciplinas)\n",
        "    EXERCICIOS      - número de exercícios realizados pelo estudante (total em todas as disciplinas) no sistema da universidade\n",
        "\n",
        "A saída da Pipeline será um valor estimado para a coluna \"LABELS\"."
      ]
    },
    {
      "cell_type": "code",
      "metadata": {
        "id": "DGQOqiXza_hv",
        "colab_type": "code",
        "colab": {}
      },
      "source": [
        "# Criação de uma Transform personalizada ``DropColumns``\n",
        "\n",
        "rm_columns = DropColumns(\n",
        "    columns=[\"NOME\"]\n",
        ")"
      ],
      "execution_count": 21,
      "outputs": []
    },
    {
      "cell_type": "code",
      "metadata": {
        "id": "IMGgRfV7a_h0",
        "colab_type": "code",
        "colab": {}
      },
      "source": [
        "# Criação de um objeto ``SimpleImputer``\n",
        "\n",
        "si = SimpleImputer(\n",
        "    missing_values=np.nan,  # os valores faltantes são do tipo ``np.nan`` (padrão Pandas)\n",
        "    strategy='constant',  # a estratégia escolhida é a alteração do valor faltante por uma constante\n",
        "    fill_value=0,  # a constante que será usada para preenchimento dos valores faltantes é um int64=0.\n",
        "    verbose=0,\n",
        "    copy=True\n",
        ")"
      ],
      "execution_count": 22,
      "outputs": []
    },
    {
      "cell_type": "code",
      "metadata": {
        "id": "vsQIYsyna_h4",
        "colab_type": "code",
        "colab": {}
      },
      "source": [
        "# Definição das colunas que serão features (nota-se que a coluna NOME não está presente)\n",
        "features = [\n",
        "    \"MATRICULA\", \"NOME\", 'REPROVACOES_DE', 'REPROVACOES_EM', \"REPROVACOES_MF\", \"REPROVACOES_GO\",\n",
        "    \"NOTA_DE\", \"NOTA_EM\", \"NOTA_MF\", \"NOTA_GO\",\n",
        "    \"INGLES\", \"H_AULA_PRES\", \"TAREFAS_ONLINE\", \"FALTAS\", \n",
        "]\n",
        "\n",
        "# Definição da variável-alvo\n",
        "target = [\"PERFIL\"]\n",
        "\n",
        "# Preparação dos argumentos para os métodos da biblioteca ``scikit-learn``\n",
        "X = df_data_1[features]\n",
        "y = df_data_1[target]"
      ],
      "execution_count": 23,
      "outputs": []
    },
    {
      "cell_type": "markdown",
      "metadata": {
        "id": "xCudWcuYa_h8",
        "colab_type": "text"
      },
      "source": [
        "**ATENÇÃO!!**\n",
        "\n",
        "A célula acima, embora muito parecida com a definição de features na primeira etapa deste desafio, possui uma grande diferença!\n",
        "\n",
        "Nela está presente a coluna \"NOME\" como uma feature! Isso ocorre pois neste caso essas são as entradas da *PIPELINE*, e não do modelo."
      ]
    },
    {
      "cell_type": "code",
      "metadata": {
        "id": "Arqp83yIa_h8",
        "colab_type": "code",
        "colab": {}
      },
      "source": [
        "# Separação dos dados em um conjunto de treino e um conjunto de teste\n",
        "X_train, X_test, y_train, y_test = train_test_split(X, y, test_size=0.3, random_state=337)"
      ],
      "execution_count": 25,
      "outputs": []
    },
    {
      "cell_type": "markdown",
      "metadata": {
        "id": "4p4qaRtsa_iA",
        "colab_type": "text"
      },
      "source": [
        "Na célula abaixo é realizada a declaração de um objeto **Pipeline** do scikit-learn, onde é declarado o parâmetro *steps*, que nada mais é do que uma lista com as etapas da nossa pipeline:\n",
        "\n",
        "    'remove_cols'     - transformação personalizada DropColumns\n",
        "    'imputer'         - transformação embutida do scikit-learn para imputação de valores faltantes\n",
        "    'dtc'             - um classificador via árvore de decisão\n",
        "    \n",
        "Note que passamos como passos as transformadas instanciadas anteriormente, sob nome `rm_columns` e `si`."
      ]
    },
    {
      "cell_type": "code",
      "metadata": {
        "id": "x_KVhedia_iB",
        "colab_type": "code",
        "colab": {}
      },
      "source": [
        "# Criação da nossa pipeline para armazenamento no Watson Machine Learning:\n",
        "my_pipeline = Pipeline(\n",
        "    steps=[\n",
        "        ('remove_cols', rm_columns),\n",
        "        ('imputer', si),\n",
        "        ('dtc', RandomForestClassifier()),\n",
        "    ]\n",
        ")"
      ],
      "execution_count": 29,
      "outputs": []
    },
    {
      "cell_type": "markdown",
      "metadata": {
        "id": "ghm00JOMa_iF",
        "colab_type": "text"
      },
      "source": [
        "Em seguida iremos executar o método `fit()` da Pipeline, realizando o pré-processamento e o treinamento do modelo de uma só vez."
      ]
    },
    {
      "cell_type": "code",
      "metadata": {
        "id": "cpR84r6-a_iG",
        "colab_type": "code",
        "colab": {
          "base_uri": "https://localhost:8080/",
          "height": 219
        },
        "outputId": "a0a1c4e1-3f73-478d-a89e-4725b824845a"
      },
      "source": [
        "# Inicialização da Pipeline (pré-processamento e realização do treinamento do modelo)\n",
        "my_pipeline.fit(X_train, y_train)"
      ],
      "execution_count": 30,
      "outputs": [
        {
          "output_type": "stream",
          "text": [
            "/usr/local/lib/python3.6/dist-packages/sklearn/ensemble/forest.py:248: FutureWarning: The default value of n_estimators will change from 10 in version 0.20 to 100 in 0.22.\n",
            "  \"10 in version 0.20 to 100 in 0.22.\", FutureWarning)\n",
            "/usr/local/lib/python3.6/dist-packages/sklearn/pipeline.py:267: DataConversionWarning: A column-vector y was passed when a 1d array was expected. Please change the shape of y to (n_samples,), for example using ravel().\n",
            "  self._final_estimator.fit(Xt, y, **fit_params)\n"
          ],
          "name": "stderr"
        },
        {
          "output_type": "execute_result",
          "data": {
            "text/plain": [
              "Pipeline(memory=None,\n",
              "     steps=[('remove_cols', DropColumns(columns=['NOME'])), ('imputer', SimpleImputer(copy=True, fill_value=0, missing_values=nan,\n",
              "       strategy='constant', verbose=0)), ('dtc', RandomForestClassifier(bootstrap=True, class_weight=None, criterion='gini',\n",
              "            max_depth=None, max_features='auto', ...obs=None,\n",
              "            oob_score=False, random_state=None, verbose=0,\n",
              "            warm_start=False))])"
            ]
          },
          "metadata": {
            "tags": []
          },
          "execution_count": 30
        }
      ]
    },
    {
      "cell_type": "markdown",
      "metadata": {
        "id": "fOyrOZIpa_iK",
        "colab_type": "text"
      },
      "source": [
        "Agora que temos uma pipeline completa, com etapas de pré-processamento configuradas e também um modelo por árvore de decisão já treinado, podemos realizar a integração com o Watson Machine Learning!"
      ]
    },
    {
      "cell_type": "markdown",
      "metadata": {
        "id": "vh0p70Psa_iL",
        "colab_type": "text"
      },
      "source": [
        "### Encapsulando uma Pipeline personalizada no Watson Machine Learning"
      ]
    },
    {
      "cell_type": "markdown",
      "metadata": {
        "id": "m6hw7neMa_iM",
        "colab_type": "text"
      },
      "source": [
        "#### Estabelecendo conexão entre o cliente Python do WML e a sua instância do serviço na nuvem"
      ]
    },
    {
      "cell_type": "code",
      "metadata": {
        "id": "s9vRbhUva_iN",
        "colab_type": "code",
        "colab": {}
      },
      "source": [
        "# Biblioteca Python com implementação de um cliente HTTP para a API do WML\n",
        "from watson_machine_learning_client import WatsonMachineLearningAPIClient"
      ],
      "execution_count": null,
      "outputs": []
    },
    {
      "cell_type": "markdown",
      "metadata": {
        "id": "f-txNJWwa_iQ",
        "colab_type": "text"
      },
      "source": [
        "As próximas células irão realizar o deploy da pipeline declarada neste notebook no WML. Só prossiga se você já está satisfeito com seu modelo e acha que já é a hora de fazer o deploy da sua solução.\n",
        "\n",
        "Cole as credenciais de sua instância do Watson Machine Learning na variável na célula abaixo.\n",
        "\n",
        "É importante que a variável que contém os valores tenha o nome de ``wml_credentials`` para que as próximas células deste notebook executem corretamente."
      ]
    },
    {
      "cell_type": "code",
      "metadata": {
        "id": "vgdyAkqja_iR",
        "colab_type": "code",
        "colab": {}
      },
      "source": [
        "wml_credentials = {\n",
        "  \"apikey\": \"\",\n",
        "  \"iam_apikey_description\": \"\",\n",
        "  \"iam_apikey_name\": \"\",\n",
        "  \"iam_role_crn\": \"\",\n",
        "  \"iam_serviceid_crn\": \"\",\n",
        "  \"instance_id\": \"\",\n",
        "  \"url\": \"\"\n",
        "}"
      ],
      "execution_count": null,
      "outputs": []
    },
    {
      "cell_type": "code",
      "metadata": {
        "id": "weSTQsvHa_iU",
        "colab_type": "code",
        "colab": {}
      },
      "source": [
        "# Instanciando um objeto cliente do Watson Machine Learning a partir das credenciais fornecidas\n",
        "\n",
        "clientWML = WatsonMachineLearningAPIClient(wml_credentials)"
      ],
      "execution_count": null,
      "outputs": []
    },
    {
      "cell_type": "code",
      "metadata": {
        "id": "RWzBTO92a_iX",
        "colab_type": "code",
        "colab": {}
      },
      "source": [
        "# Extraindo detalhes da sua instância do Watson Machine Learning\n",
        "\n",
        "instance_details = clientWML.service_instance.get_details()\n",
        "print(json.dumps(instance_details, indent=4))"
      ],
      "execution_count": null,
      "outputs": []
    },
    {
      "cell_type": "markdown",
      "metadata": {
        "id": "WPQBumd1a_ih",
        "colab_type": "text"
      },
      "source": [
        "**ATENÇÃO!!**\n",
        "\n",
        "Fique atento para os limites de consumo de sua instância do Watson Machine Learning!\n",
        "\n",
        "Caso você expire a camada grátis, não será possível avaliar seu modelo (pois é necessária a realização de algumas chamadas de API que consomem predições!)"
      ]
    },
    {
      "cell_type": "markdown",
      "metadata": {
        "id": "S9FcNkdfa_ih",
        "colab_type": "text"
      },
      "source": [
        "#### Listando todos os artefatos armazenados no seu WML"
      ]
    },
    {
      "cell_type": "markdown",
      "metadata": {
        "id": "o5Cktq6Va_ii",
        "colab_type": "text"
      },
      "source": [
        "Para listar todos os artefatos armazenados em seu Watson Machine Learning, você pode usar a seguinte função:\n",
        "\n",
        "    clientWML.repository.list()"
      ]
    },
    {
      "cell_type": "code",
      "metadata": {
        "id": "T0dSsjTXa_ij",
        "colab_type": "code",
        "colab": {}
      },
      "source": [
        "# Listando todos os artefatos atualmente armazenados na sua instância do WML\n",
        "\n",
        "clientWML.repository.list()"
      ],
      "execution_count": null,
      "outputs": []
    },
    {
      "cell_type": "markdown",
      "metadata": {
        "id": "tGbP4ME1a_in",
        "colab_type": "text"
      },
      "source": [
        "No plano LITE do Watson Machine Learning só é permitido o deploy de um único modelo por vez. Se for o caso de você já possuir um modelo online na sua instância, você pode apagá-lo utilizando o método clientWML.repository.delete():\n",
        "\n",
        "    artifact_guid = \"359c8951-d2fe-4063-8706-cc06b32d5e0d\"\n",
        "    clientWML.repository.delete(artifact_guid)"
      ]
    },
    {
      "cell_type": "markdown",
      "metadata": {
        "id": "S3UJhqqGa_io",
        "colab_type": "text"
      },
      "source": [
        "#### Criando uma nova definição de pacote Python personalizado no WML"
      ]
    },
    {
      "cell_type": "markdown",
      "metadata": {
        "id": "I4iCcFFia_ip",
        "colab_type": "text"
      },
      "source": [
        "O primeiro passo para realizar seu deploy é armazenar o código das transformações personalizadas criadas por você.\n",
        "\n",
        "Para essa etapa precisamos apenas do arquivo .zip do pacote criado (que já possuimos carregado no Kernel!)"
      ]
    },
    {
      "cell_type": "code",
      "metadata": {
        "id": "M9dm11zPa_ip",
        "colab_type": "code",
        "colab": {}
      },
      "source": [
        "# Definição de metadados do nosso pacote com as Transforms personalizadas\n",
        "pkg_meta = {\n",
        "    clientWML.runtimes.LibraryMetaNames.NAME: \"my_custom_sklearn_transform_1\",\n",
        "    clientWML.runtimes.LibraryMetaNames.DESCRIPTION: \"A custom sklearn transform\",\n",
        "    clientWML.runtimes.LibraryMetaNames.FILEPATH: \"sklearn_transforms.zip\",  # Note que estamos utilizando o .zip criado anteriormente!\n",
        "    clientWML.runtimes.LibraryMetaNames.VERSION: \"1.0\",\n",
        "    clientWML.runtimes.LibraryMetaNames.PLATFORM: { \"name\": \"python\", \"versions\": [\"3.6\"] }\n",
        "}\n",
        "custom_package_details = clientWML.runtimes.store_library( pkg_meta )\n",
        "custom_package_uid = clientWML.runtimes.get_library_uid( custom_package_details )\n",
        "\n",
        "print(\"\\n Lista de artefatos de runtime armazenados no WML:\")\n",
        "clientWML.repository.list()"
      ],
      "execution_count": null,
      "outputs": []
    },
    {
      "cell_type": "markdown",
      "metadata": {
        "id": "-KonirU5a_iu",
        "colab_type": "text"
      },
      "source": [
        "#### Criando uma nova definição de runtime Python personalizado no WML\n",
        "\n",
        "O segundo passo é armazenar uma definição de runtime Python para utilizar a nossa biblioteca personalizada.\n",
        "\n",
        "Isso pode ser feito da seguinte forma:"
      ]
    },
    {
      "cell_type": "code",
      "metadata": {
        "id": "UfRhKIqIa_iv",
        "colab_type": "code",
        "colab": {}
      },
      "source": [
        "runtime_meta = {\n",
        "    clientWML.runtimes.ConfigurationMetaNames.NAME: \"my_custom_wml_runtime_1\",\n",
        "    clientWML.runtimes.ConfigurationMetaNames.DESCRIPTION: \"A Python runtime with custom sklearn Transforms\",\n",
        "    clientWML.runtimes.ConfigurationMetaNames.PLATFORM: {\n",
        "        \"name\": \"python\",\n",
        "        \"version\": \"3.6\"\n",
        "    },\n",
        "    clientWML.runtimes.ConfigurationMetaNames.LIBRARIES_UIDS: [ custom_package_uid ]\n",
        "}\n",
        "runtime_details = clientWML.runtimes.store( runtime_meta )\n",
        "custom_runtime_uid = clientWML.runtimes.get_uid( runtime_details )\n",
        "\n",
        "print(\"\\n Detalhes do runtime armazenado:\")\n",
        "print(json.dumps(runtime_details, indent=4))"
      ],
      "execution_count": null,
      "outputs": []
    },
    {
      "cell_type": "code",
      "metadata": {
        "id": "U7uLzT2ma_iz",
        "colab_type": "code",
        "colab": {}
      },
      "source": [
        "# Listando todos runtimes armazenados no seu WML:\n",
        "clientWML.runtimes.list()"
      ],
      "execution_count": null,
      "outputs": []
    },
    {
      "cell_type": "markdown",
      "metadata": {
        "id": "9SefFiPEa_i2",
        "colab_type": "text"
      },
      "source": [
        "#### Criando uma nova definição de Pipeline personalizada no WML\n",
        "\n",
        "Finalmente iremos criar uma definição (metadados) para a nossa Pipeline ser hospedada no WML.\n",
        "\n",
        "Definimos como parâmetros um nome para o artefato e o ID do runtime criado anteriormente."
      ]
    },
    {
      "cell_type": "code",
      "metadata": {
        "id": "MIZFOrXca_i3",
        "colab_type": "code",
        "colab": {}
      },
      "source": [
        "model_meta = {\n",
        "    clientWML.repository.ModelMetaNames.NAME: 'desafio-2-mbtc2020-pipeline-1',\n",
        "    clientWML.repository.ModelMetaNames.DESCRIPTION: \"my pipeline for submission\",\n",
        "    clientWML.repository.ModelMetaNames.RUNTIME_UID: custom_runtime_uid\n",
        "}"
      ],
      "execution_count": null,
      "outputs": []
    },
    {
      "cell_type": "markdown",
      "metadata": {
        "id": "JhXOj20aa_i6",
        "colab_type": "text"
      },
      "source": [
        "Em seguida chamamos o método para armazenar a nova definição:"
      ]
    },
    {
      "cell_type": "code",
      "metadata": {
        "id": "kzpjPvCUa_i7",
        "colab_type": "code",
        "colab": {}
      },
      "source": [
        "# Função para armazenar uma definição de Pipeline no WML\n",
        "stored_model_details = clientWML.repository.store_model(\n",
        "    model=my_pipeline,  # `my_pipeline` é a variável criada anteriormente e contém nossa Pipeline já treinada :)\n",
        "    meta_props=model_meta,  # Metadados definidos na célula anterior\n",
        "    training_data=None  # Não altere esse parâmetro\n",
        ")\n",
        "\n",
        "print(\"\\n Lista de artefatos armazenados no WML:\")\n",
        "clientWML.repository.list()\n",
        "\n",
        "# Detalhes do modelo hospedado no Watson Machine Learning\n",
        "print(\"\\n Metadados do modelo armazenado:\")\n",
        "print(json.dumps(stored_model_details, indent=4))"
      ],
      "execution_count": null,
      "outputs": []
    },
    {
      "cell_type": "markdown",
      "metadata": {
        "id": "2MhJtlzla_i-",
        "colab_type": "text"
      },
      "source": [
        "#### Realizando o deployment do seu modelo para consumo imediato por outras aplicações"
      ]
    },
    {
      "cell_type": "code",
      "metadata": {
        "id": "EneAVfvWa_i_",
        "colab_type": "code",
        "colab": {}
      },
      "source": [
        "# O deployment do modelo é finalmente realizado por meio do método ``deployments.create()``\n",
        "\n",
        "model_deployment_details = clientWML.deployments.create(\n",
        "    artifact_uid=stored_model_details[\"metadata\"][\"guid\"],  # Não altere esse parâmetro\n",
        "    name=\"desafio-2-mbtc2020-deployment-1\",\n",
        "    description=\"Solução do desafio 2 - MBTC\",\n",
        "    asynchronous=False,  # Não altere esse parâmetro\n",
        "    deployment_type='online',  # Não altere esse parâmetro\n",
        "    deployment_format='Core ML',  # Não altere esse parâmetro\n",
        "    meta_props=model_meta  # Não altere esse parâmetro\n",
        ")"
      ],
      "execution_count": null,
      "outputs": []
    },
    {
      "cell_type": "markdown",
      "metadata": {
        "id": "LjpTWBzIa_jD",
        "colab_type": "text"
      },
      "source": [
        "#### Testando um modelo hospedado no Watson Machine Learning"
      ]
    },
    {
      "cell_type": "code",
      "metadata": {
        "id": "y0JADWuWa_jD",
        "colab_type": "code",
        "colab": {}
      },
      "source": [
        "# Recuperando a URL endpoint do modelo hospedado na célula anterior\n",
        "\n",
        "model_endpoint_url = clientWML.deployments.get_scoring_url(model_deployment_details)\n",
        "print(\"A URL de chamada da sua API é: {}\".format(model_endpoint_url))"
      ],
      "execution_count": null,
      "outputs": []
    },
    {
      "cell_type": "code",
      "metadata": {
        "id": "qBB8P-9Ja_jH",
        "colab_type": "code",
        "colab": {}
      },
      "source": [
        "# Detalhes do deployment realizado\n",
        "\n",
        "deployment_details = clientWML.deployments.get_details(\n",
        "    deployment_uid=model_deployment_details[\"metadata\"][\"guid\"]  # esse é o ID do seu deployment!\n",
        ")\n",
        "\n",
        "print(\"Metadados do deployment realizado: \\n\")\n",
        "print(json.dumps(deployment_details, indent=4))"
      ],
      "execution_count": null,
      "outputs": []
    },
    {
      "cell_type": "code",
      "metadata": {
        "scrolled": false,
        "id": "cMS99R7Ea_jK",
        "colab_type": "code",
        "colab": {}
      },
      "source": [
        "scoring_payload = {\n",
        "    'fields': [\n",
        "        \"MATRICULA\", \"NOME\", 'REPROVACOES_DE', 'REPROVACOES_EM', \"REPROVACOES_MF\", \"REPROVACOES_GO\",\n",
        "        \"NOTA_DE\", \"NOTA_EM\", \"NOTA_MF\", \"NOTA_GO\",\n",
        "        \"INGLES\", \"H_AULA_PRES\", \"TAREFAS_ONLINE\", \"FALTAS\", \n",
        "    ],\n",
        "    'values': [\n",
        "        [\n",
        "            513949,\"Marli Quésia de Oliveira\",1,1,1,1,4.3,4.0,3.1,4.9,0,3,4,3,\n",
        "        ]\n",
        "    ]\n",
        "}\n",
        "\n",
        "print(\"\\n Payload de dados a ser classificada:\")\n",
        "print(json.dumps(scoring_payload, indent=4))"
      ],
      "execution_count": null,
      "outputs": []
    },
    {
      "cell_type": "code",
      "metadata": {
        "id": "5Tfa4_D1a_jO",
        "colab_type": "code",
        "colab": {}
      },
      "source": [
        "result = clientWML.deployments.score(\n",
        "    model_endpoint_url,\n",
        "    scoring_payload\n",
        ")\n",
        "\n",
        "print(\"\\n Resultados:\")\n",
        "print(json.dumps(result, indent=4))"
      ],
      "execution_count": null,
      "outputs": []
    },
    {
      "cell_type": "markdown",
      "metadata": {
        "id": "STx9gazNa_jR",
        "colab_type": "text"
      },
      "source": [
        "<hr>\n",
        "\n",
        "## Parabéns! \n",
        "\n",
        "Se tudo foi executado sem erros, você já tem um classificador baseado em machine learning encapsulado como uma API REST!\n",
        "\n",
        "Para testar a sua solução integrada com um assistente virtual e realizar a submissão, acesse a página:\n",
        "\n",
        "https://uninassau.maratona.dev\n",
        "\n",
        "Você irá precisar da endpoint url do seu modelo e das credenciais do WML :)"
      ]
    },
    {
      "cell_type": "code",
      "metadata": {
        "id": "8yG2A9zYa_jS",
        "colab_type": "code",
        "colab": {}
      },
      "source": [
        ""
      ],
      "execution_count": null,
      "outputs": []
    }
  ]
}